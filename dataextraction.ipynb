{
 "cells": [
  {
   "cell_type": "code",
   "execution_count": 2,
   "metadata": {
    "collapsed": true
   },
   "outputs": [],
   "source": [
    "import numpy as np\n",
    "import pandas as pd\n",
    "import glob as glob\n",
    "import os"
   ]
  },
  {
   "cell_type": "code",
   "execution_count": 3,
   "metadata": {
    "collapsed": true
   },
   "outputs": [],
   "source": [
    "def getData(directory):\n",
    "\n",
    "    path = directory\n",
    "    allFiles = glob.glob(os.path.join(path,\"*.csv\"))\n",
    "\n",
    "\n",
    "    np_array_list = []\n",
    "    for file_ in allFiles:\n",
    "        df = pd.read_csv(file_,index_col=None, header=0)\n",
    "        np_array_list.append(df.as_matrix())\n",
    "\n",
    "    comb_np_array = np.vstack(np_array_list)\n",
    "    data = pd.DataFrame(comb_np_array)\n",
    "\n",
    "    data.columns = [\"source_id\",\"transit_id\",\"band\",\"time\",\"mag\",\"flux\",\"flux_error\",\"flux_over_error\",\"rejected_by_photometry\",\"rejected_by_variability\",\"other_flags\",\"solution_id\"]\n",
    "\n",
    "    return data"
   ]
  },
  {
   "cell_type": "code",
   "execution_count": 4,
   "metadata": {
    "collapsed": true
   },
   "outputs": [],
   "source": [
    "ACEP = getData(\"C:\\kv\\Thesus\\ACEP\\\\\")\n",
    "CEP = getData(\"C:\\kv\\Thesus\\CEP\\\\\")\n",
    "DSCT_SXPHE = getData(\"C:\\kv\\Thesus\\DSCT_SXPHE\\\\\")\n",
    "MIRA_SR = getData(\"C:\\kv\\Thesus\\MIRA_SR\\\\\")\n",
    "RRAB = getData(\"C:\\kv\\Thesus\\RRAB\\\\\")\n",
    "RRC = getData(\"C:\\kv\\Thesus\\RRC\\\\\")\n",
    "RRD = getData(\"C:\\kv\\Thesus\\RRD\\\\\")\n",
    "T2CEP = getData(\"C:\\kv\\Thesus\\T2CEP\\\\\")"
   ]
  },
  {
   "cell_type": "code",
   "execution_count": 4,
   "metadata": {
    "collapsed": true
   },
   "outputs": [],
   "source": []
  },
  {
   "cell_type": "code",
   "execution_count": 5,
   "metadata": {
    "collapsed": true
   },
   "outputs": [],
   "source": [
    "ACEP[\"label\"]=1\n",
    "CEP[\"label\"]=2\n",
    "DSCT_SXPHE[\"label\"]=3\n",
    "MIRA_SR[\"label\"]=4\n",
    "RRAB[\"label\"]=5\n",
    "RRC[\"label\"]=6\n",
    "RRD[\"label\"]=7\n",
    "T2CEP[\"label\"]=8"
   ]
  },
  {
   "cell_type": "code",
   "execution_count": 6,
   "metadata": {},
   "outputs": [
    {
     "data": {
      "text/plain": [
       "(252, 13)"
      ]
     },
     "execution_count": 6,
     "metadata": {},
     "output_type": "execute_result"
    }
   ],
   "source": [
    "ACEP.shape #4files #0.05% of total sources  #0.038% of total data "
   ]
  },
  {
   "cell_type": "code",
   "execution_count": 7,
   "metadata": {},
   "outputs": [
    {
     "data": {
      "text/plain": [
       "(2557, 13)"
      ]
     },
     "execution_count": 7,
     "metadata": {},
     "output_type": "execute_result"
    }
   ],
   "source": [
    "CEP.shape #25 files #0.312% of   sources #0.391% of total data"
   ]
  },
  {
   "cell_type": "code",
   "execution_count": 8,
   "metadata": {},
   "outputs": [
    {
     "data": {
      "text/plain": [
       "(15266, 13)"
      ]
     },
     "execution_count": 8,
     "metadata": {},
     "output_type": "execute_result"
    }
   ],
   "source": [
    "DSCT_SXPHE.shape #228 files #2.854% of total sources #2.336% of total data"
   ]
  },
  {
   "cell_type": "code",
   "execution_count": 9,
   "metadata": {},
   "outputs": [
    {
     "data": {
      "text/plain": [
       "(280088, 13)"
      ]
     },
     "execution_count": 9,
     "metadata": {},
     "output_type": "execute_result"
    }
   ],
   "source": [
    "MIRA_SR.shape #3172 files #39.71% of total sources #42.87 of total data"
   ]
  },
  {
   "cell_type": "code",
   "execution_count": 10,
   "metadata": {},
   "outputs": [
    {
     "data": {
      "text/plain": [
       "(274037, 13)"
      ]
     },
     "execution_count": 10,
     "metadata": {},
     "output_type": "execute_result"
    }
   ],
   "source": [
    "RRAB.shape #3634 files #45.5% of total sources #41.942 of total data"
   ]
  },
  {
   "cell_type": "code",
   "execution_count": 11,
   "metadata": {},
   "outputs": [
    {
     "data": {
      "text/plain": [
       "(76173, 13)"
      ]
     },
     "execution_count": 11,
     "metadata": {},
     "output_type": "execute_result"
    }
   ],
   "source": [
    "RRC.shape #879 files #11% of total sources #11.658 of total data"
   ]
  },
  {
   "cell_type": "code",
   "execution_count": 12,
   "metadata": {},
   "outputs": [
    {
     "data": {
      "text/plain": [
       "(1065, 13)"
      ]
     },
     "execution_count": 12,
     "metadata": {},
     "output_type": "execute_result"
    }
   ],
   "source": [
    "RRD.shape #15 files #0.187% of total sources  #0.163 of total data"
   ]
  },
  {
   "cell_type": "code",
   "execution_count": 13,
   "metadata": {},
   "outputs": [
    {
     "data": {
      "text/plain": [
       "(3919, 13)"
      ]
     },
     "execution_count": 13,
     "metadata": {},
     "output_type": "execute_result"
    }
   ],
   "source": [
    "T2CEP.shape #31 files #0.388% of total sources #0.599 of total data"
   ]
  },
  {
   "cell_type": "code",
   "execution_count": 14,
   "metadata": {
    "collapsed": true
   },
   "outputs": [],
   "source": [
    "GAIA_data = pd.concat([ACEP,CEP,DSCT_SXPHE,MIRA_SR,RRAB,RRC,RRD,T2CEP])"
   ]
  },
  {
   "cell_type": "code",
   "execution_count": 15,
   "metadata": {},
   "outputs": [
    {
     "data": {
      "text/plain": [
       "(653357, 13)"
      ]
     },
     "execution_count": 15,
     "metadata": {},
     "output_type": "execute_result"
    }
   ],
   "source": [
    "GAIA_data.shape"
   ]
  },
  {
   "cell_type": "code",
   "execution_count": 16,
   "metadata": {},
   "outputs": [
    {
     "data": {
      "text/plain": [
       "4    280088\n",
       "5    274037\n",
       "6     76173\n",
       "3     15266\n",
       "8      3919\n",
       "2      2557\n",
       "7      1065\n",
       "1       252\n",
       "Name: label, dtype: int64"
      ]
     },
     "execution_count": 16,
     "metadata": {},
     "output_type": "execute_result"
    }
   ],
   "source": [
    "GAIA_data['label'].value_counts()"
   ]
  },
  {
   "cell_type": "code",
   "execution_count": 20,
   "metadata": {},
   "outputs": [
    {
     "data": {
      "text/plain": [
       "False    653357\n",
       "Name: rejected_by_photometry, dtype: int64"
      ]
     },
     "execution_count": 20,
     "metadata": {},
     "output_type": "execute_result"
    }
   ],
   "source": [
    "GAIA_data['rejected_by_photometry'].value_counts()"
   ]
  },
  {
   "cell_type": "code",
   "execution_count": 21,
   "metadata": {},
   "outputs": [
    {
     "data": {
      "text/plain": [
       "False    640141\n",
       "True      13216\n",
       "Name: rejected_by_variability, dtype: int64"
      ]
     },
     "execution_count": 21,
     "metadata": {},
     "output_type": "execute_result"
    }
   ],
   "source": [
    "GAIA_data['rejected_by_variability'].value_counts()"
   ]
  },
  {
   "cell_type": "code",
   "execution_count": 22,
   "metadata": {},
   "outputs": [
    {
     "data": {
      "text/html": [
       "<div>\n",
       "<table border=\"1\" class=\"dataframe\">\n",
       "  <thead>\n",
       "    <tr style=\"text-align: right;\">\n",
       "      <th></th>\n",
       "      <th>source_id</th>\n",
       "      <th>transit_id</th>\n",
       "      <th>band</th>\n",
       "      <th>time</th>\n",
       "      <th>mag</th>\n",
       "      <th>flux</th>\n",
       "      <th>flux_error</th>\n",
       "      <th>flux_over_error</th>\n",
       "      <th>rejected_by_photometry</th>\n",
       "      <th>rejected_by_variability</th>\n",
       "      <th>other_flags</th>\n",
       "      <th>solution_id</th>\n",
       "      <th>label</th>\n",
       "    </tr>\n",
       "  </thead>\n",
       "  <tbody>\n",
       "    <tr>\n",
       "      <th>0</th>\n",
       "      <td>5283870493563617920</td>\n",
       "      <td>16496330759370670</td>\n",
       "      <td>G</td>\n",
       "      <td>1695.17</td>\n",
       "      <td>16.3594</td>\n",
       "      <td>5389.76</td>\n",
       "      <td>126.731</td>\n",
       "      <td>42.5293</td>\n",
       "      <td>False</td>\n",
       "      <td>True</td>\n",
       "      <td>8257537</td>\n",
       "      <td>369295549951641967</td>\n",
       "      <td>1</td>\n",
       "    </tr>\n",
       "    <tr>\n",
       "      <th>1</th>\n",
       "      <td>5283870493563617920</td>\n",
       "      <td>16500423061853366</td>\n",
       "      <td>G</td>\n",
       "      <td>1695.25</td>\n",
       "      <td>16.3614</td>\n",
       "      <td>5379.97</td>\n",
       "      <td>23.4485</td>\n",
       "      <td>229.437</td>\n",
       "      <td>False</td>\n",
       "      <td>False</td>\n",
       "      <td>4097</td>\n",
       "      <td>369295549951641967</td>\n",
       "      <td>1</td>\n",
       "    </tr>\n",
       "    <tr>\n",
       "      <th>2</th>\n",
       "      <td>5283870493563617920</td>\n",
       "      <td>18801863158060180</td>\n",
       "      <td>G</td>\n",
       "      <td>1736.87</td>\n",
       "      <td>16.3244</td>\n",
       "      <td>5566.49</td>\n",
       "      <td>9.53428</td>\n",
       "      <td>583.84</td>\n",
       "      <td>False</td>\n",
       "      <td>False</td>\n",
       "      <td>1</td>\n",
       "      <td>369295549951641967</td>\n",
       "      <td>1</td>\n",
       "    </tr>\n",
       "    <tr>\n",
       "      <th>3</th>\n",
       "      <td>5283870493563617920</td>\n",
       "      <td>20717902842303152</td>\n",
       "      <td>G</td>\n",
       "      <td>1771.52</td>\n",
       "      <td>16.2638</td>\n",
       "      <td>5886.11</td>\n",
       "      <td>15.961</td>\n",
       "      <td>368.78</td>\n",
       "      <td>False</td>\n",
       "      <td>False</td>\n",
       "      <td>1</td>\n",
       "      <td>369295549951641967</td>\n",
       "      <td>1</td>\n",
       "    </tr>\n",
       "    <tr>\n",
       "      <th>4</th>\n",
       "      <td>5283870493563617920</td>\n",
       "      <td>20721995127908222</td>\n",
       "      <td>G</td>\n",
       "      <td>1771.59</td>\n",
       "      <td>16.2697</td>\n",
       "      <td>5854.4</td>\n",
       "      <td>67.3058</td>\n",
       "      <td>86.9822</td>\n",
       "      <td>False</td>\n",
       "      <td>False</td>\n",
       "      <td>4097</td>\n",
       "      <td>369295549951641967</td>\n",
       "      <td>1</td>\n",
       "    </tr>\n",
       "    <tr>\n",
       "      <th>5</th>\n",
       "      <td>5283870493563617920</td>\n",
       "      <td>22214447115198491</td>\n",
       "      <td>G</td>\n",
       "      <td>1798.58</td>\n",
       "      <td>15.8862</td>\n",
       "      <td>8334.6</td>\n",
       "      <td>13.1018</td>\n",
       "      <td>636.143</td>\n",
       "      <td>False</td>\n",
       "      <td>False</td>\n",
       "      <td>1</td>\n",
       "      <td>369295549951641967</td>\n",
       "      <td>1</td>\n",
       "    </tr>\n",
       "    <tr>\n",
       "      <th>6</th>\n",
       "      <td>5283870493563617920</td>\n",
       "      <td>24093044944834717</td>\n",
       "      <td>G</td>\n",
       "      <td>1832.55</td>\n",
       "      <td>16.3902</td>\n",
       "      <td>5239.2</td>\n",
       "      <td>33.2666</td>\n",
       "      <td>157.491</td>\n",
       "      <td>False</td>\n",
       "      <td>False</td>\n",
       "      <td>4097</td>\n",
       "      <td>369295549951641967</td>\n",
       "      <td>1</td>\n",
       "    </tr>\n",
       "    <tr>\n",
       "      <th>7</th>\n",
       "      <td>5283870493563617920</td>\n",
       "      <td>25581402717569337</td>\n",
       "      <td>G</td>\n",
       "      <td>1859.47</td>\n",
       "      <td>16.1348</td>\n",
       "      <td>6628.46</td>\n",
       "      <td>20.3182</td>\n",
       "      <td>326.233</td>\n",
       "      <td>False</td>\n",
       "      <td>False</td>\n",
       "      <td>4194817</td>\n",
       "      <td>369295549951641967</td>\n",
       "      <td>1</td>\n",
       "    </tr>\n",
       "    <tr>\n",
       "      <th>8</th>\n",
       "      <td>5283870493563617920</td>\n",
       "      <td>25585495007475615</td>\n",
       "      <td>G</td>\n",
       "      <td>1859.54</td>\n",
       "      <td>16.1658</td>\n",
       "      <td>6442.11</td>\n",
       "      <td>28.2537</td>\n",
       "      <td>228.01</td>\n",
       "      <td>False</td>\n",
       "      <td>False</td>\n",
       "      <td>7340033</td>\n",
       "      <td>369295549951641967</td>\n",
       "      <td>1</td>\n",
       "    </tr>\n",
       "    <tr>\n",
       "      <th>9</th>\n",
       "      <td>5283870493563617920</td>\n",
       "      <td>27473874078545292</td>\n",
       "      <td>G</td>\n",
       "      <td>1893.69</td>\n",
       "      <td>15.7368</td>\n",
       "      <td>9563.94</td>\n",
       "      <td>25.598</td>\n",
       "      <td>373.62</td>\n",
       "      <td>False</td>\n",
       "      <td>False</td>\n",
       "      <td>1</td>\n",
       "      <td>369295549951641967</td>\n",
       "      <td>1</td>\n",
       "    </tr>\n",
       "  </tbody>\n",
       "</table>\n",
       "</div>"
      ],
      "text/plain": [
       "             source_id         transit_id band     time      mag     flux  \\\n",
       "0  5283870493563617920  16496330759370670    G  1695.17  16.3594  5389.76   \n",
       "1  5283870493563617920  16500423061853366    G  1695.25  16.3614  5379.97   \n",
       "2  5283870493563617920  18801863158060180    G  1736.87  16.3244  5566.49   \n",
       "3  5283870493563617920  20717902842303152    G  1771.52  16.2638  5886.11   \n",
       "4  5283870493563617920  20721995127908222    G  1771.59  16.2697   5854.4   \n",
       "5  5283870493563617920  22214447115198491    G  1798.58  15.8862   8334.6   \n",
       "6  5283870493563617920  24093044944834717    G  1832.55  16.3902   5239.2   \n",
       "7  5283870493563617920  25581402717569337    G  1859.47  16.1348  6628.46   \n",
       "8  5283870493563617920  25585495007475615    G  1859.54  16.1658  6442.11   \n",
       "9  5283870493563617920  27473874078545292    G  1893.69  15.7368  9563.94   \n",
       "\n",
       "  flux_error flux_over_error rejected_by_photometry rejected_by_variability  \\\n",
       "0    126.731         42.5293                  False                    True   \n",
       "1    23.4485         229.437                  False                   False   \n",
       "2    9.53428          583.84                  False                   False   \n",
       "3     15.961          368.78                  False                   False   \n",
       "4    67.3058         86.9822                  False                   False   \n",
       "5    13.1018         636.143                  False                   False   \n",
       "6    33.2666         157.491                  False                   False   \n",
       "7    20.3182         326.233                  False                   False   \n",
       "8    28.2537          228.01                  False                   False   \n",
       "9     25.598          373.62                  False                   False   \n",
       "\n",
       "  other_flags         solution_id  label  \n",
       "0     8257537  369295549951641967      1  \n",
       "1        4097  369295549951641967      1  \n",
       "2           1  369295549951641967      1  \n",
       "3           1  369295549951641967      1  \n",
       "4        4097  369295549951641967      1  \n",
       "5           1  369295549951641967      1  \n",
       "6        4097  369295549951641967      1  \n",
       "7     4194817  369295549951641967      1  \n",
       "8     7340033  369295549951641967      1  \n",
       "9           1  369295549951641967      1  "
      ]
     },
     "execution_count": 22,
     "metadata": {},
     "output_type": "execute_result"
    }
   ],
   "source": [
    "GAIA_data.head(10)"
   ]
  },
  {
   "cell_type": "code",
   "execution_count": 31,
   "metadata": {},
   "outputs": [
    {
     "data": {
      "text/plain": [
       "0.5998252104132963"
      ]
     },
     "execution_count": 31,
     "metadata": {},
     "output_type": "execute_result"
    }
   ],
   "source": [
    "(3919/653357)*100"
   ]
  },
  {
   "cell_type": "code",
   "execution_count": 39,
   "metadata": {},
   "outputs": [
    {
     "data": {
      "text/plain": [
       "0.38808212318477714"
      ]
     },
     "execution_count": 39,
     "metadata": {},
     "output_type": "execute_result"
    }
   ],
   "source": [
    "(31/7988)*100"
   ]
  },
  {
   "cell_type": "code",
   "execution_count": null,
   "metadata": {
    "collapsed": true
   },
   "outputs": [],
   "source": []
  }
 ],
 "metadata": {
  "anaconda-cloud": {},
  "kernelspec": {
   "display_name": "Python [conda env:ML]",
   "language": "python",
   "name": "conda-env-ML-py"
  },
  "language_info": {
   "codemirror_mode": {
    "name": "ipython",
    "version": 3
   },
   "file_extension": ".py",
   "mimetype": "text/x-python",
   "name": "python",
   "nbconvert_exporter": "python",
   "pygments_lexer": "ipython3",
   "version": "3.4.5"
  }
 },
 "nbformat": 4,
 "nbformat_minor": 2
}
